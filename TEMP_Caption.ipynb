{
 "cells": [
  {
   "cell_type": "code",
   "execution_count": null,
   "id": "a345a4ac-5d31-40ee-ba73-9858b762c4ff",
   "metadata": {
    "tags": []
   },
   "outputs": [],
   "source": [
    "\n",
    "\n",
    "        \n",
    "if __name__ == \"__main__\":\n",
    "    \n",
    "\n",
    "  \n",
    "\n",
    "    \n",
    "    for filename_and_extension in os.listdir(inputs['in_dir']):\n",
    "        image_extensions_lower_case = ['.jpeg', '.jpg', '.png']\n",
    "        base_filename, file_extension = os.path.splitext(filename_and_extension)        \n",
    "        if file_extension.lower() in image_extensions_lower_case:\n",
    "            input_filepath = os.path.join(inputs['in_dir'], base_filename + file_extension)\n",
    "            output_filepath = os.path.join(inputs['out_dir'], base_filename + file_extension)\n",
    "            print ('processing ' + input_filepath)\n",
    "            image_title = get_image_title(input_filepath)\n",
    "            if title_is_valid_for_caption(image_title, inputs['caption_prefix']):\n",
    "                input_image = get_input_image(input_filepath)\n",
    "                caption = image_title_ex_prefix(image_title, inputs['caption_prefix'])    \n",
    "                output_image= generate_captioned_image(input_image=input_image, frame_ratio = inputs['frame_ratio'], \n",
    "                    border_ratio = inputs['border_ratio'], border_colour = inputs['border_colour'], \n",
    "                    frame_colour = inputs['frame_colour'],caption_font = inputs['caption_font'], \n",
    "                    font_ratio = inputs['font_ratio'], font_size_min = inputs['font_size_min'],                                   \n",
    "                    font_colour = inputs['font_colour'], caption = caption)\n",
    "                output_image.save(output_filepath)\n",
    "                copy_metadata(input_filepath, output_filepath)\n",
    "                \n",
    "            else:\n",
    "                shutil.copy2(input_filepath, output_filepath)\n",
    "            \n",
    "            \n",
    "\n",
    "    print('\\nProcessing complete...')"
   ]
  }
 ],
 "metadata": {
  "kernelspec": {
   "display_name": "Python 3 (ipykernel)",
   "language": "python",
   "name": "python3"
  },
  "language_info": {
   "codemirror_mode": {
    "name": "ipython",
    "version": 3
   },
   "file_extension": ".py",
   "mimetype": "text/x-python",
   "name": "python",
   "nbconvert_exporter": "python",
   "pygments_lexer": "ipython3",
   "version": "3.11.3"
  }
 },
 "nbformat": 4,
 "nbformat_minor": 5
}
